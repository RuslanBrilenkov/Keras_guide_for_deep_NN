{
 "cells": [
  {
   "cell_type": "markdown",
   "metadata": {},
   "source": [
    "# Author: Ruslan Brilenkov \n",
    "## Contact: [LinkedIn](https://www.linkedin.com/in/ruslan-brilenkov-b32640114/)\n",
    "\n",
    "# A step-by-step guide to Keras"
   ]
  },
  {
   "cell_type": "markdown",
   "metadata": {},
   "source": [
    "# Step 1: Importing the necessary libraries "
   ]
  },
  {
   "cell_type": "code",
   "execution_count": 1,
   "metadata": {
    "id": "3hkB62zpTvlN"
   },
   "outputs": [],
   "source": [
    "# of course, numerical Python:\n",
    "import numpy as np\n",
    "# utilities for the categorical data:\n",
    "from tensorflow.keras.utils import to_categorical\n",
    "# dataset:\n",
    "from keras.datasets import cifar10\n",
    "\n",
    "# building blocks of Keras:\n",
    "from keras.layers.convolutional import Conv2D\n",
    "from keras.layers.normalization import BatchNormalization\n",
    "from keras.layers import LeakyReLU"
   ]
  },
  {
   "cell_type": "markdown",
   "metadata": {},
   "source": [
    "# Step 2: Loading our data set"
   ]
  },
  {
   "cell_type": "code",
   "execution_count": 2,
   "metadata": {
    "id": "4XlkUv4JT38n"
   },
   "outputs": [
    {
     "name": "stdout",
     "output_type": "stream",
     "text": [
      "[3]\n",
      "[0. 0. 0. 1. 0. 0. 0. 0. 0. 0.]\n"
     ]
    }
   ],
   "source": [
    "(x_train, y_train), (x_test, y_test) = cifar10.load_data()\n",
    "NUMB_CLASSES = 10\n",
    "x_train = x_train.astype('float32') / 255.0\n",
    "x_test = x_test.astype('float32') / 255.0\n",
    "y_train = to_categorical(y_train, NUMB_CLASSES)\n",
    "print(y_test[0])\n",
    "y_test = to_categorical(y_test, NUMB_CLASSES)\n",
    "print(y_test[0])"
   ]
  },
  {
   "cell_type": "markdown",
   "metadata": {},
   "source": [
    "# Step 3: Deciding on NN architecture"
   ]
  },
  {
   "cell_type": "markdown",
   "metadata": {
    "id": "BwEhaY96ZFA1"
   },
   "source": [
    "## Example of the <font color='blue'>Sequential</font> architecture"
   ]
  },
  {
   "cell_type": "code",
   "execution_count": 3,
   "metadata": {
    "id": "2QxALl79UW9z"
   },
   "outputs": [],
   "source": [
    "# from keras.models import Sequential\n",
    "# from keras.layers import Flatten, Dense\n",
    "# model = Sequential([\n",
    "#     Dense(200, activation = 'relu', input_shape=(32, 32, 3)),\n",
    "#     Flatten(),\n",
    "#     Dense(150, activation = 'relu'),\n",
    "#     Dense(10, activation = 'softmax'),\n",
    "# ])"
   ]
  },
  {
   "cell_type": "markdown",
   "metadata": {
    "id": "KCE1nI1GZSd5"
   },
   "source": [
    "## Example of the <font color='blue'>Functional API</font> architecture"
   ]
  },
  {
   "cell_type": "code",
   "execution_count": 4,
   "metadata": {
    "id": "5Xm-ret8ZPa0"
   },
   "outputs": [],
   "source": [
    "# Importing explicitly the layers and the model we will be using:\n",
    "from keras.layers import Input, Flatten, Dense\n",
    "from keras.models import Model\n",
    "\n",
    "# Input layer is an image of size 32 x 32 and 3 channels (e.g., RGB, BGR, etc.):\n",
    "input_layer = Input(shape=(32,32, 3))\n",
    "# Here are different types of layers:\n",
    "x = Flatten()(input_layer)\n",
    "x = Dense(units=200, activation = 'relu')(x)\n",
    "x = Dense(units=150, activation = 'relu')(x)\n",
    "output_layer = Dense(units=10, activation = 'softmax')(x)\n",
    "model = Model(input_layer, output_layer)"
   ]
  },
  {
   "cell_type": "code",
   "execution_count": null,
   "metadata": {
    "id": "PWbq0FTt4Mcx"
   },
   "outputs": [],
   "source": []
  }
 ],
 "metadata": {
  "accelerator": "GPU",
  "colab": {
   "collapsed_sections": [],
   "name": "Keras_Deep_NN_basics.ipynb",
   "provenance": []
  },
  "kernelspec": {
   "display_name": "Python 3",
   "language": "python",
   "name": "python3"
  },
  "language_info": {
   "codemirror_mode": {
    "name": "ipython",
    "version": 3
   },
   "file_extension": ".py",
   "mimetype": "text/x-python",
   "name": "python",
   "nbconvert_exporter": "python",
   "pygments_lexer": "ipython3",
   "version": "3.8.10"
  }
 },
 "nbformat": 4,
 "nbformat_minor": 1
}
