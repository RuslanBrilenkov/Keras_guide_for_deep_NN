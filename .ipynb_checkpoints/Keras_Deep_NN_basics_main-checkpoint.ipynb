{
 "cells": [
  {
   "cell_type": "markdown",
   "metadata": {},
   "source": [
    "# Author: Ruslan Brilenkov \n",
    "## Contact: [LinkedIn](https://www.linkedin.com/in/ruslan-brilenkov-b32640114/)\n",
    "\n",
    "# A step-by-step guide to Keras [(original article)](https://medium.com/p/f21a7715124f/edit)"
   ]
  },
  {
   "cell_type": "markdown",
   "metadata": {},
   "source": [
    "# Step 1: Importing the necessary libraries "
   ]
  },
  {
   "cell_type": "code",
   "execution_count": 1,
   "metadata": {
    "id": "3hkB62zpTvlN"
   },
   "outputs": [],
   "source": [
    "# of course, numerical Python:\n",
    "import numpy as np\n",
    "# utilities for the categorical data:\n",
    "from tensorflow.keras.utils import to_categorical\n",
    "# dataset:\n",
    "from keras.datasets import cifar10\n",
    "\n",
    "# building blocks of Keras:\n",
    "from keras.layers.convolutional import Conv2D\n",
    "from keras.layers.normalization import BatchNormalization\n",
    "from keras.layers import LeakyReLU"
   ]
  },
  {
   "cell_type": "markdown",
   "metadata": {},
   "source": [
    "# Step 2: Loading our data set"
   ]
  },
  {
   "cell_type": "code",
   "execution_count": 4,
   "metadata": {
    "id": "4XlkUv4JT38n"
   },
   "outputs": [
    {
     "name": "stdout",
     "output_type": "stream",
     "text": [
      "[3]\n",
      "[0. 0. 0. 1. 0. 0. 0. 0. 0. 0.]\n"
     ]
    }
   ],
   "source": [
    "(x_train, y_train), (x_test, y_test) = cifar10.load_data()\n",
    "NUMB_CLASSES = 10\n",
    "x_train = x_train.astype('float32') / 255.0\n",
    "x_test = x_test.astype('float32') / 255.0\n",
    "y_train = to_categorical(y_train, NUMB_CLASSES)\n",
    "print(y_test[0])\n",
    "y_test = to_categorical(y_test, NUMB_CLASSES)\n",
    "print(y_test[0])"
   ]
  },
  {
   "cell_type": "markdown",
   "metadata": {},
   "source": [
    "# Step 3: Deciding on NN architecture"
   ]
  },
  {
   "cell_type": "markdown",
   "metadata": {
    "id": "BwEhaY96ZFA1"
   },
   "source": [
    "## Example of the <font color='blue'>Sequential</font> architecture"
   ]
  },
  {
   "cell_type": "code",
   "execution_count": 3,
   "metadata": {
    "id": "2QxALl79UW9z"
   },
   "outputs": [],
   "source": [
    "# from keras.models import Sequential\n",
    "# from keras.layers import Flatten, Dense\n",
    "# model = Sequential([\n",
    "#     Dense(200, activation = 'relu', input_shape=(32, 32, 3)),\n",
    "#     Flatten(),\n",
    "#     Dense(150, activation = 'relu'),\n",
    "#     Dense(10, activation = 'softmax'),\n",
    "# ])"
   ]
  },
  {
   "cell_type": "markdown",
   "metadata": {
    "id": "KCE1nI1GZSd5"
   },
   "source": [
    "## Example of the <font color='blue'>Functional API</font> architecture"
   ]
  },
  {
   "cell_type": "code",
   "execution_count": 4,
   "metadata": {
    "id": "5Xm-ret8ZPa0"
   },
   "outputs": [],
   "source": [
    "# Importing explicitly the layers and the model we will be using:\n",
    "from keras.layers import Input, Flatten, Dense\n",
    "from keras.models import Model\n",
    "\n",
    "# Input layer is an image of size 32 x 32 and 3 channels (e.g., RGB, BGR, etc.):\n",
    "input_layer = Input(shape=(32,32, 3))\n",
    "# Here are different types of layers:\n",
    "x = Flatten()(input_layer)\n",
    "x = Dense(units=200, activation = 'relu')(x)\n",
    "x = Dense(units=150, activation = 'relu')(x)\n",
    "output_layer = Dense(units=10, activation = 'softmax')(x)\n",
    "model = Model(input_layer, output_layer)"
   ]
  },
  {
   "cell_type": "markdown",
   "metadata": {
    "id": "lE-7v5dyZyf8"
   },
   "source": [
    "Here, we are using three different types of layer: Input, Flatten, and Dense.\n",
    "\n",
    "We do not need to explicitly state the batch size in the Input layer definition. \n",
    "\n",
    "Next we flatten this input into a vector, using a Flatten layer. This results in a vector of length 3,072 (= 32 × 32 × 3). The reason we do this is because the subsequent Dense layer requires that its input is flat, rather than a multidimensional array. \n",
    "\n",
    "The Dense layer is perhaps the most fundamental layer type in any neural network. It contains a given number of units that are densely connected to the previous layer— that is, every unit in the layer is connected to every unit in the previous layer, through a single connection that carries a weight (which can be positive or negative). The out‐ put from a given unit is the weighted sum of the input it receives from the previous layer, which is then passed through a nonlinear activation function before being sent to the following layer. The activation function is critical to ensure the neural network is able to learn complex functions and doesn’t just output a linear combination of its input."
   ]
  },
  {
   "cell_type": "markdown",
   "metadata": {
    "id": "EerB1YbqabVk"
   },
   "source": [
    "There are many kinds of activation function, but the three most important are ReLU, sigmoid, and softmax."
   ]
  },
  {
   "cell_type": "markdown",
   "metadata": {
    "id": "zT76AVcWbQZz"
   },
   "source": [
    "In Keras, activation functions can also be defined in a separate layer as follows:\n",
    "\n",
    "    x = Dense(units=200)(x)\n",
    "    x = Activation('relu')(x)\n",
    "\n",
    "This is equivalent to:\n",
    "\n",
    "    x = Dense(units=200, activation = 'relu')(x)\n",
    "\n",
    "\n",
    "In our example, as required, the shape of our Input layer matches the shape of x_train and the shape of our Dense output layer matches the shape of y_train. To illustrate this, we can use the model.summary()"
   ]
  },
  {
   "cell_type": "code",
   "execution_count": 5,
   "metadata": {
    "colab": {
     "base_uri": "https://localhost:8080/"
    },
    "id": "3j_BDQKHaaxT",
    "outputId": "d118e559-72ce-418c-cda4-bb38cae15a5a"
   },
   "outputs": [
    {
     "name": "stdout",
     "output_type": "stream",
     "text": [
      "Model: \"model\"\n",
      "_________________________________________________________________\n",
      "Layer (type)                 Output Shape              Param #   \n",
      "=================================================================\n",
      "input_1 (InputLayer)         [(None, 32, 32, 3)]       0         \n",
      "_________________________________________________________________\n",
      "flatten (Flatten)            (None, 3072)              0         \n",
      "_________________________________________________________________\n",
      "dense (Dense)                (None, 200)               614600    \n",
      "_________________________________________________________________\n",
      "dense_1 (Dense)              (None, 150)               30150     \n",
      "_________________________________________________________________\n",
      "dense_2 (Dense)              (None, 10)                1510      \n",
      "=================================================================\n",
      "Total params: 646,260\n",
      "Trainable params: 646,260\n",
      "Non-trainable params: 0\n",
      "_________________________________________________________________\n"
     ]
    }
   ],
   "source": [
    "model.summary()"
   ]
  },
  {
   "cell_type": "markdown",
   "metadata": {
    "id": "U1CRF3kNeGJV"
   },
   "source": [
    "Notice how Keras uses None as a marker to show that it doesn’t yet know the number of observations that will be passed into the network. In fact, it doesn’t need to; we could just as easily pass one observation through the network at a time as 1,000. That’s because tensor operations are conducted across all observations simultaneously using linear algebra—this is the part handled by TensorFlow. It is also the reason why you get a performance increase when training deep neural networks on GPUs instead of CPUs: GPUs are optimized for large tensor multiplications since these calculations are also necessary for complex graphics manipulation.\n",
    "\n",
    "The summary method also gives the number of parameters (weights) that will be trained at each layer. If ever you find that your model is training too slowly, check the summary to see if there are any layers that contain a huge number of weights. If so, you should consider whether the number of units in the layer could be reduced to speed up training."
   ]
  },
  {
   "cell_type": "markdown",
   "metadata": {
    "id": "-WJpO9wseM_W"
   },
   "source": [
    "# Compiling the Model\n",
    "\n",
    "In this step, we compile the model with an optimizer and a loss function:"
   ]
  },
  {
   "cell_type": "code",
   "execution_count": 6,
   "metadata": {
    "colab": {
     "base_uri": "https://localhost:8080/",
     "height": 215
    },
    "id": "R6AyRjOZddxV",
    "outputId": "9514a847-a78d-48f0-aff5-4f24ed8cd4fc"
   },
   "outputs": [],
   "source": [
    "from keras.optimizers import Adam\n",
    "opt = Adam(learning_rate=0.0005)\n",
    "model.compile(loss='categorical_crossentropy', optimizer=opt,\n",
    "              metrics=['accuracy'])"
   ]
  },
  {
   "cell_type": "markdown",
   "metadata": {
    "id": "jUGueffbebtk"
   },
   "source": [
    "The loss function is used by the neural network to compare its predicted output to the ground truth. It returns a single number for each observation; the greater this number, the worse the network has performed for this observation."
   ]
  },
  {
   "cell_type": "markdown",
   "metadata": {
    "id": "VNBvw8mLerck"
   },
   "source": [
    "Keras provides many built-in loss functions to choose from, or you can create your own. Three of the most commonly used are mean squared error, categorical cross- entropy, and binary cross-entropy. It is important to understand when it is appropri‐ ate to use each.\n",
    "\n",
    "If your neural network is designed to solve a regression problem (i.e., the output is continuous), then you can use the mean squared error loss. This is the mean of the squared difference between the ground truth yi and predicted value pi of each output unit, where the mean is taken over all n output units:\n",
    "1n\n",
    "MSE = n ∑ yi − pi 2\n",
    "\n",
    "If you are working on a classification problem where each observation only belongs to one class, then categorical cross-entropy is the correct loss function. This is defined as follows:\n",
    "n\n",
    "− ∑ yi log pi\n",
    "\n",
    "Finally, if you are working on a binary classification problem with one output unit, or a multilabel problem where each observation can belong to multiple classes simulta‐ neously, you should use binary cross-entropy:\n",
    "1n\n",
    "−n ∑ yilog pi + 1−yi log 1−pi"
   ]
  },
  {
   "cell_type": "markdown",
   "metadata": {
    "id": "7eYcn8x7fF3G"
   },
   "source": [
    "The optimizer is the algorithm that will be used to update the weights in the neural network based on the gradient of the loss function. One of the most commonly used and stable optimizers is Adam.3 In most cases, you shouldn’t need to tweak the default parameters of the Adam optimizer, except for the learning rate. The greater the learn‐ ing rate, the larger the change in weights at each training step. While training is ini‐ tially faster with a large learning rate, the downside is that it may result in less stable training and may not find the minima of the loss function. This is a parameter that you may want to tune or adjust during training."
   ]
  },
  {
   "cell_type": "markdown",
   "metadata": {
    "id": "SzGJ3r30fdA1"
   },
   "source": [
    "-----\n",
    "\n",
    "Another common optimizer that you may come across is RMSProp. Again, you shouldn’t need to adjust the parameters of this optimizer too much, but it is worth reading the Keras documentation to understand the role of each parameter.\n",
    "We pass both the loss function and the optimizer into the compile method of the model, as well as a metrics parameter where we can specify any additional metrics that we would like reporting on during training, such as accuracy."
   ]
  },
  {
   "cell_type": "markdown",
   "metadata": {
    "id": "4F5S6aMxflXx"
   },
   "source": [
    "# Training the Model\n",
    "\n",
    "Thus far, we haven’t shown the model any data and have just set up the architecture and compiled the model with a loss function and optimizer.\n",
    "To train the model, simply call the fit method, as shown here:"
   ]
  },
  {
   "cell_type": "code",
   "execution_count": 7,
   "metadata": {
    "colab": {
     "base_uri": "https://localhost:8080/"
    },
    "id": "K9RFiv7Bemzg",
    "outputId": "59a85951-c61b-455b-f5bf-660c6158fb35"
   },
   "outputs": [
    {
     "name": "stdout",
     "output_type": "stream",
     "text": [
      "Epoch 1/10\n",
      "1563/1563 [==============================] - 26s 8ms/step - loss: 1.9718 - accuracy: 0.2835\n",
      "Epoch 2/10\n",
      "1563/1563 [==============================] - 18s 11ms/step - loss: 1.6907 - accuracy: 0.3959\n",
      "Epoch 3/10\n",
      "1563/1563 [==============================] - 8s 5ms/step - loss: 1.5998 - accuracy: 0.4307\n",
      "Epoch 4/10\n",
      "1563/1563 [==============================] - 7s 4ms/step - loss: 1.5427 - accuracy: 0.4480: 0s - loss: 1.5429 - ac\n",
      "Epoch 5/10\n",
      "1563/1563 [==============================] - 8s 5ms/step - loss: 1.5012 - accuracy: 0.4622\n",
      "Epoch 6/10\n",
      "1563/1563 [==============================] - 7s 4ms/step - loss: 1.4551 - accuracy: 0.4810\n",
      "Epoch 7/10\n",
      "1563/1563 [==============================] - 7s 4ms/step - loss: 1.4389 - accuracy: 0.4865\n",
      "Epoch 8/10\n",
      "1563/1563 [==============================] - 7s 4ms/step - loss: 1.4136 - accuracy: 0.4960\n",
      "Epoch 9/10\n",
      "1563/1563 [==============================] - 7s 5ms/step - loss: 1.3876 - accuracy: 0.5043\n",
      "Epoch 10/10\n",
      "1563/1563 [==============================] - 9s 6ms/step - loss: 1.3752 - accuracy: 0.5129\n"
     ]
    },
    {
     "data": {
      "text/plain": [
       "<keras.callbacks.History at 0x7fd4abe8f250>"
      ]
     },
     "execution_count": 7,
     "metadata": {},
     "output_type": "execute_result"
    }
   ],
   "source": [
    " model.fit(x_train,\n",
    "           y_train,\n",
    "           batch_size = 32,\n",
    "           epochs = 10,\n",
    "           shuffle = True\n",
    "           )"
   ]
  },
  {
   "cell_type": "markdown",
   "metadata": {
    "id": "avc9vpDff_v0"
   },
   "source": [
    "This will start training a deep neural network to predict the category of an image from the CIFAR-10 dataset.\n",
    "\n",
    "The training process works as follows. First, the weights of the network are initialized to small random values. Then the network performs a series of training steps.\n",
    "\n",
    "At each training step, one batch of images is passed through the network and the errors are backpropagated to update the weights. The batch_size determines how many images are in each training step batch. The larger the batch size, the more sta‐ ble the gradient calculation, but the slower each training step. It would be far too time-consuming and computationally intensive to use the entire dataset to calculate the gradient at each training step, so generally a batch size between 32 and 256 is used. It is also now recommended practice to increase the batch size as training progresses.4\n",
    "\n",
    "This continues until all observations in the dataset have been seen once. This com‐ pletes the first epoch. The data is then passed through the network again in batches as part of the second epoch. This process repeats until the specified number of epochs have elapsed.\n",
    "\n",
    "During training, Keras outputs the progress of the procedure, as shown in Figure 2-7. We can see that the training dataset of 50,000 observations has been shown to the net‐ work 10 times (i.e., over 10 epochs), at a rate of approximately 3 miliseconds per observation. The categorical cross-entropy loss has fallen from 1.9690 to 1.3654, result‐ ing in an accuracy increase from 28.0% after the first epoch to 50.09% after the tenth epoch."
   ]
  },
  {
   "cell_type": "markdown",
   "metadata": {
    "id": "k7CH8KmpheWi"
   },
   "source": [
    "\n",
    "----\n",
    "\n",
    "# Evaluating the Model\n",
    "\n",
    "We know the model achieves an accuracy of 51.9% on the training set, but how does it perform on data it has never seen?\n",
    "\n",
    "To answer this question we can use the evaluate method provided by Keras:"
   ]
  },
  {
   "cell_type": "code",
   "execution_count": 8,
   "metadata": {
    "colab": {
     "base_uri": "https://localhost:8080/"
    },
    "id": "4DvqjWvieT3l",
    "outputId": "aa33cce3-66c9-4640-8b31-77c8413d5214"
   },
   "outputs": [
    {
     "name": "stdout",
     "output_type": "stream",
     "text": [
      "313/313 [==============================] - 2s 3ms/step - loss: 1.4115 - accuracy: 0.5031\n"
     ]
    },
    {
     "data": {
      "text/plain": [
       "[1.4115186929702759, 0.5030999779701233]"
      ]
     },
     "execution_count": 8,
     "metadata": {},
     "output_type": "execute_result"
    }
   ],
   "source": [
    "model.evaluate(x_test, y_test)"
   ]
  },
  {
   "cell_type": "markdown",
   "metadata": {
    "id": "PFKfH7oGiVIW"
   },
   "source": [
    "The output from this method is a list of the metrics we are monitoring: categorical cross-entropy and accuracy. We can see that model accuracy is still 49.0% even on images that it has never seen before. Note that if the model was guessing randomly, it would achieve approximately 10% accuracy (because there are 10 classes), so 50% is a good result given that we have used a very basic neural network.\n",
    "\n",
    "We can view some of the predictions on the test set using the predict method:"
   ]
  },
  {
   "cell_type": "code",
   "execution_count": 9,
   "metadata": {
    "id": "ocUgn-j0iHrD"
   },
   "outputs": [],
   "source": [
    "CLASSES = np.array(['airplane', 'automobile', 'bird', 'cat', 'deer', 'dog'\n",
    "                       , 'frog', 'horse', 'ship', 'truck'])\n",
    "\n",
    "preds = model.predict(x_test)\n",
    "preds_single = CLASSES[np.argmax(preds, axis = -1)]\n",
    "actual_single = CLASSES[np.argmax(y_test, axis = -1)]\n"
   ]
  },
  {
   "cell_type": "markdown",
   "metadata": {
    "id": "RopaotO7i2zU"
   },
   "source": [
    "e convert this array of probabilities back into a single prediction using numpy’s argmax function. Here, axis = –1 tells the function to collapse the array over the last dimension (the classes dimension), so that the shape of preds_single is then [10000, 1].\n",
    "\n",
    "We can view some of the images alongside their labels and predictions with the fol‐ lowing code. As expected, around half are correct:"
   ]
  },
  {
   "cell_type": "code",
   "execution_count": 16,
   "metadata": {
    "colab": {
     "base_uri": "https://localhost:8080/",
     "height": 137
    },
    "id": "Aoew9FTKi4KS",
    "outputId": "ecde0b38-35f3-4869-e0fc-9d9cc3deddb8"
   },
   "outputs": [
    {
     "data": {
      "image/png": "[encoded data removed]",
      "text/plain": [
       "<Figure size 1080x216 with 8 Axes>"
      ]
     },
     "metadata": {
      "needs_background": "light"
     },
     "output_type": "display_data"
    }
   ],
   "source": [
    "import matplotlib.pyplot as plt\n",
    "\n",
    "n_to_show = 8\n",
    "indices = np.random.choice(range(len(x_test)), n_to_show)\n",
    "\n",
    "fig = plt.figure(figsize=(15, 3))\n",
    "fig.subplots_adjust(hspace=0.4, wspace=0.4)\n",
    "\n",
    "for i, idx in enumerate(indices):\n",
    "    img = x_test[idx]\n",
    "    ax = fig.add_subplot(1, n_to_show, i+1)\n",
    "    ax.text(0.5, -0.35, f\"predict = {preds_single[idx]}\", fontsize=10\n",
    "              , ha='center', transform=ax.transAxes)\n",
    "    ax.text(0.5, -0.7, f\"actual = {actual_single[idx]}\", fontsize=10\n",
    "                , ha='center', transform=ax.transAxes)\n",
    "    ax.axis('off')\n",
    "    ax.imshow(img)\n"
   ]
  },
  {
   "cell_type": "markdown",
   "metadata": {
    "id": "ZFbP2C3F0Op0"
   },
   "source": []
  },
  {
   "cell_type": "code",
   "execution_count": 17,
   "metadata": {
    "id": "GIGmM2iYi-5A"
   },
   "outputs": [],
   "source": [
    "from keras.layers.convolutional import Conv2D\n",
    "\n",
    "input_layer = Input(shape=(32,32,3))\n",
    "\n",
    "conv_layer_1 = Conv2D(\n",
    "    filters = 10\n",
    "    , kernel_size = (4,4)\n",
    "    , strides = 2\n",
    "    , padding = 'same'\n",
    "    )(input_layer)\n",
    "\n",
    "conv_layer_2 = Conv2D(\n",
    "    filters = 20\n",
    "    , kernel_size = (3,3)\n",
    "    , strides = 2\n",
    "    , padding = 'same'\n",
    "    )(conv_layer_1)\n",
    "\n",
    "flatten_layer = Flatten()(conv_layer_2)\n",
    "\n",
    "output_layer = Dense(units=10, activation = 'softmax')(flatten_layer)\n",
    "\n",
    "model = Model(input_layer, output_layer)\n"
   ]
  },
  {
   "cell_type": "code",
   "execution_count": 18,
   "metadata": {
    "colab": {
     "base_uri": "https://localhost:8080/"
    },
    "id": "r93FfUJv0kXf",
    "outputId": "ffd50419-048e-4494-eee3-97b14ccf6bbe"
   },
   "outputs": [
    {
     "name": "stdout",
     "output_type": "stream",
     "text": [
      "Model: \"model_1\"\n",
      "_________________________________________________________________\n",
      "Layer (type)                 Output Shape              Param #   \n",
      "=================================================================\n",
      "input_2 (InputLayer)         [(None, 32, 32, 3)]       0         \n",
      "_________________________________________________________________\n",
      "conv2d (Conv2D)              (None, 16, 16, 10)        490       \n",
      "_________________________________________________________________\n",
      "conv2d_1 (Conv2D)            (None, 8, 8, 20)          1820      \n",
      "_________________________________________________________________\n",
      "flatten_1 (Flatten)          (None, 1280)              0         \n",
      "_________________________________________________________________\n",
      "dense_3 (Dense)              (None, 10)                12810     \n",
      "=================================================================\n",
      "Total params: 15,120\n",
      "Trainable params: 15,120\n",
      "Non-trainable params: 0\n",
      "_________________________________________________________________\n"
     ]
    }
   ],
   "source": [
    "model.summary()"
   ]
  },
  {
   "cell_type": "markdown",
   "metadata": {
    "id": "pPL1lKc6_430"
   },
   "source": [
    "Dropout layers are used most commonly after Dense layers since these are most prone to overfitting due to the higher number of weights, though you can also use them after convolutional layers.\n",
    "\n",
    "\n",
    "Batch normalization also has been shown to reduce overfitting, and therefore many modern deep learning architectures don’t use drop‐ out at all, and rely solely on batch normalization for regularization. As with most deep learning principles, there is no golden rule that applies in every situation—the only way to know for sure what’s best is to test different architectures and see which performs best on a holdout set of data."
   ]
  },
  {
   "cell_type": "markdown",
   "metadata": {
    "id": "ATMKx_95C0Wm"
   },
   "source": [
    "# Putting it all together!"
   ]
  },
  {
   "cell_type": "code",
   "execution_count": 19,
   "metadata": {
    "id": "0lBn0rDM3N7i"
   },
   "outputs": [],
   "source": [
    "from keras.layers import Input, Flatten, Dense, Dropout, Activation\n",
    "from keras.models import Model\n",
    "\n",
    "input_layer = Input((32,32,3))\n",
    "x = Conv2D(filters = 32, kernel_size = 3,\n",
    "           strides = 1, padding = 'same')(input_layer)\n",
    "x = BatchNormalization()(x)\n",
    "x = LeakyReLU()(x)\n",
    "\n",
    "x = Conv2D(filters = 32, kernel_size = 3,\n",
    "           strides = 2, padding = 'same')(x)\n",
    "x = BatchNormalization()(x)\n",
    "x = LeakyReLU()(x)\n",
    "\n",
    "x = Conv2D(filters = 64, kernel_size = 3,\n",
    "           strides = 1, padding = 'same')(x)\n",
    "x = BatchNormalization()(x)\n",
    "x = LeakyReLU()(x)\n",
    "\n",
    "x = Conv2D(filters = 64, kernel_size = 3,\n",
    "           strides = 2, padding = 'same')(x)\n",
    "x = BatchNormalization()(x)\n",
    "x = LeakyReLU()(x)\n",
    "\n",
    "x = Flatten()(x)\n",
    "x = Dense(128)(x)\n",
    "x = BatchNormalization()(x)\n",
    "x = LeakyReLU()(x)\n",
    "\n",
    "x = Dropout(rate = 0.5)(x)\n",
    "x = Dense(NUMB_CLASSES)(x)\n",
    "output_layer = Activation('softmax')(x)\n",
    "\n",
    "model = Model(input_layer, output_layer)"
   ]
  },
  {
   "cell_type": "code",
   "execution_count": 20,
   "metadata": {
    "colab": {
     "base_uri": "https://localhost:8080/"
    },
    "id": "OlwYR-ZZCOuN",
    "outputId": "902031fe-2768-45a1-a111-e400b5f2f1b6"
   },
   "outputs": [
    {
     "name": "stdout",
     "output_type": "stream",
     "text": [
      "Model: \"model_2\"\n",
      "_________________________________________________________________\n",
      "Layer (type)                 Output Shape              Param #   \n",
      "=================================================================\n",
      "input_3 (InputLayer)         [(None, 32, 32, 3)]       0         \n",
      "_________________________________________________________________\n",
      "conv2d_2 (Conv2D)            (None, 32, 32, 32)        896       \n",
      "_________________________________________________________________\n",
      "batch_normalization (BatchNo (None, 32, 32, 32)        128       \n",
      "_________________________________________________________________\n",
      "leaky_re_lu (LeakyReLU)      (None, 32, 32, 32)        0         \n",
      "_________________________________________________________________\n",
      "conv2d_3 (Conv2D)            (None, 16, 16, 32)        9248      \n",
      "_________________________________________________________________\n",
      "batch_normalization_1 (Batch (None, 16, 16, 32)        128       \n",
      "_________________________________________________________________\n",
      "leaky_re_lu_1 (LeakyReLU)    (None, 16, 16, 32)        0         \n",
      "_________________________________________________________________\n",
      "conv2d_4 (Conv2D)            (None, 16, 16, 64)        18496     \n",
      "_________________________________________________________________\n",
      "batch_normalization_2 (Batch (None, 16, 16, 64)        256       \n",
      "_________________________________________________________________\n",
      "leaky_re_lu_2 (LeakyReLU)    (None, 16, 16, 64)        0         \n",
      "_________________________________________________________________\n",
      "conv2d_5 (Conv2D)            (None, 8, 8, 64)          36928     \n",
      "_________________________________________________________________\n",
      "batch_normalization_3 (Batch (None, 8, 8, 64)          256       \n",
      "_________________________________________________________________\n",
      "leaky_re_lu_3 (LeakyReLU)    (None, 8, 8, 64)          0         \n",
      "_________________________________________________________________\n",
      "flatten_2 (Flatten)          (None, 4096)              0         \n",
      "_________________________________________________________________\n",
      "dense_4 (Dense)              (None, 128)               524416    \n",
      "_________________________________________________________________\n",
      "batch_normalization_4 (Batch (None, 128)               512       \n",
      "_________________________________________________________________\n",
      "leaky_re_lu_4 (LeakyReLU)    (None, 128)               0         \n",
      "_________________________________________________________________\n",
      "dropout (Dropout)            (None, 128)               0         \n",
      "_________________________________________________________________\n",
      "dense_5 (Dense)              (None, 10)                1290      \n",
      "_________________________________________________________________\n",
      "activation (Activation)      (None, 10)                0         \n",
      "=================================================================\n",
      "Total params: 592,554\n",
      "Trainable params: 591,914\n",
      "Non-trainable params: 640\n",
      "_________________________________________________________________\n"
     ]
    }
   ],
   "source": [
    "model.summary()"
   ]
  },
  {
   "cell_type": "code",
   "execution_count": 21,
   "metadata": {
    "id": "56Fa5hL4Cf9x"
   },
   "outputs": [],
   "source": [
    "from keras.optimizers import Adam\n",
    "opt = Adam(learning_rate=0.0005)\n",
    "model.compile(loss='categorical_crossentropy', optimizer=opt,\n",
    "              metrics=['accuracy'])"
   ]
  },
  {
   "cell_type": "code",
   "execution_count": 22,
   "metadata": {
    "colab": {
     "base_uri": "https://localhost:8080/"
    },
    "id": "r3vaPgc9Cbgh",
    "outputId": "060ae8e2-56e5-4480-9c56-0196c28682eb"
   },
   "outputs": [
    {
     "name": "stdout",
     "output_type": "stream",
     "text": [
      "Epoch 1/10\n",
      "1563/1563 [==============================] - 204s 125ms/step - loss: 1.7905 - accuracy: 0.3928\n",
      "Epoch 2/10\n",
      "1563/1563 [==============================] - 126s 81ms/step - loss: 1.1522 - accuracy: 0.5965\n",
      "Epoch 3/10\n",
      "1563/1563 [==============================] - 126s 80ms/step - loss: 1.0004 - accuracy: 0.6484\n",
      "Epoch 4/10\n",
      "1563/1563 [==============================] - 122s 78ms/step - loss: 0.9139 - accuracy: 0.6776\n",
      "Epoch 5/10\n",
      "1563/1563 [==============================] - 119s 76ms/step - loss: 0.8484 - accuracy: 0.7025\n",
      "Epoch 6/10\n",
      "1563/1563 [==============================] - 180s 115ms/step - loss: 0.7952 - accuracy: 0.7252\n",
      "Epoch 7/10\n",
      "1563/1563 [==============================] - 176s 112ms/step - loss: 0.7476 - accuracy: 0.7386\n",
      "Epoch 8/10\n",
      "1563/1563 [==============================] - 142s 91ms/step - loss: 0.6939 - accuracy: 0.7582\n",
      "Epoch 9/10\n",
      "1563/1563 [==============================] - 134s 85ms/step - loss: 0.6611 - accuracy: 0.7662\n",
      "Epoch 10/10\n",
      "1563/1563 [==============================] - 165s 106ms/step - loss: 0.6348 - accuracy: 0.7786\n"
     ]
    },
    {
     "data": {
      "text/plain": [
       "<keras.callbacks.History at 0x7fd48808b280>"
      ]
     },
     "execution_count": 22,
     "metadata": {},
     "output_type": "execute_result"
    }
   ],
   "source": [
    " model.fit(x_train,\n",
    "           y_train,\n",
    "           batch_size = 32,\n",
    "           epochs = 10,\n",
    "           shuffle = True\n",
    "           )"
   ]
  },
  {
   "cell_type": "code",
   "execution_count": null,
   "metadata": {
    "colab": {
     "base_uri": "https://localhost:8080/"
    },
    "id": "q6vsLCSnCV3b",
    "outputId": "4abe4b56-fc5f-4348-9ef4-4a0bbfa3866b"
   },
   "outputs": [
    {
     "name": "stdout",
     "output_type": "stream",
     "text": [
      "10/10 [==============================] - 9s 743ms/step - loss: 1.0165 - accuracy: 0.6645\n"
     ]
    },
    {
     "data": {
      "text/plain": [
       "[1.016526460647583, 0.6644999980926514]"
      ]
     },
     "execution_count": 7,
     "metadata": {
      "tags": []
     },
     "output_type": "execute_result"
    }
   ],
   "source": [
    "model.evaluate(x_test, y_test, batch_size=1000)"
   ]
  },
  {
   "cell_type": "code",
   "execution_count": null,
   "metadata": {
    "id": "PWbq0FTt4Mcx"
   },
   "outputs": [],
   "source": []
  }
 ],
 "metadata": {
  "accelerator": "GPU",
  "colab": {
   "collapsed_sections": [],
   "name": "Keras_Deep_NN_basics.ipynb",
   "provenance": []
  },
  "kernelspec": {
   "display_name": "Python 3",
   "language": "python",
   "name": "python3"
  },
  "language_info": {
   "codemirror_mode": {
    "name": "ipython",
    "version": 3
   },
   "file_extension": ".py",
   "mimetype": "text/x-python",
   "name": "python",
   "nbconvert_exporter": "python",
   "pygments_lexer": "ipython3",
   "version": "3.8.10"
  }
 },
 "nbformat": 4,
 "nbformat_minor": 1
}
